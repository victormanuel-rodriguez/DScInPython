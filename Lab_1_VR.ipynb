{
 "cells": [
  {
   "cell_type": "markdown",
   "id": "f8210a2c-3b77-42a8-a666-cc7b9daa69a3",
   "metadata": {
    "tags": []
   },
   "source": [
    "# Laboratorio 1\n",
    "### Git & GitHub\n",
    "> *Estudiante: Víctor Manuel Rodríguez Umaña*\n",
    "\n",
    "> *Carnet: 24007670*\n",
    "\n",
    "> *Curso: Ciencia de Datos en Python*"
   ]
  },
  {
   "cell_type": "markdown",
   "id": "b9b29e5e-09f6-4444-9b16-fb2b998cf399",
   "metadata": {
    "jp-MarkdownHeadingCollapsed": true,
    "tags": []
   },
   "source": [
    "# 1. Git"
   ]
  },
  {
   "cell_type": "markdown",
   "id": "43c0a49f-f887-440e-9fbb-ff72d7b5a74a",
   "metadata": {
    "tags": []
   },
   "source": [
    "### ¿Qué es Git?"
   ]
  },
  {
   "cell_type": "markdown",
   "id": "82422201-c0a1-436f-ada4-c8a50cb15613",
   "metadata": {},
   "source": [
    "Git es un **sistema de control de versiones** distribuido, diseñado para manejar proyectos con velocidad y eficiencia. Permite a los desarrolladores rastrear y gestionar cambios en el código fuente, facilitando la colaboración y coordinación entre equipos."
   ]
  },
  {
   "cell_type": "markdown",
   "id": "6b47459f-6c1d-4a2a-bcc3-2b5f5b424bd4",
   "metadata": {
    "tags": []
   },
   "source": [
    "### Funcionamiento y utilidad"
   ]
  },
  {
   "cell_type": "markdown",
   "id": "e064cb6d-e20f-4b57-80b8-ddf12c74653c",
   "metadata": {},
   "source": [
    "Git se basa en la idea de *\"snapshots\"*, donde cada confirmación (*commit*) captura el estado completo de un proyecto en un momento dado. Esto permite a los desarrolladores volver a versiones anteriores, comparar cambios, y fusionar desarrollos de diferentes ramas."
   ]
  },
  {
   "cell_type": "markdown",
   "id": "9e4b94f8-9e9d-4f0c-83d2-a825511817bd",
   "metadata": {
    "tags": []
   },
   "source": [
    "### Ramas"
   ]
  },
  {
   "cell_type": "markdown",
   "id": "47ee5b61-4d1b-4dda-b84f-de66ec6f0358",
   "metadata": {},
   "source": [
    "Una **rama** es un nuevo camino asociado al código que se está desarrollando en un proyecto. Las ramas permiten a los desarrolladores trabajar en diferentes partes delproyecto al mismo tiempo, sin interferir en el trabajo de  los demás. Una vez que completamos una tarea en una rama, podemos fusionarla con otra rama del proyecto y combinar sus cambios."
   ]
  },
  {
   "cell_type": "markdown",
   "id": "9bc8b317-57cb-4277-9f1e-ba1a0940b761",
   "metadata": {
    "tags": []
   },
   "source": [
    "### Principales comandos"
   ]
  },
  {
   "cell_type": "markdown",
   "id": "a657919b-92f5-4285-8754-99f598858728",
   "metadata": {},
   "source": [
    "| Comando | Descripción |\n",
    "| ------- | ----------- |\n",
    "| git init | Inicializa un nuevo repositorio Git. |\n",
    "| git clone [url] | Clona un repositorio existente desde una URL. |\n",
    "| git add [archivo] | Agrega archivos al área de preparación (staging area). |\n",
    "| git commit -m \"[mensaje]\" | Guarda los cambios en el repositorio con un mensaje descriptivo. |\n",
    "| git status | Muestra el estado de los archivos modificados. |\n",
    "| git push | Sube los cambios al repositorio remoto. |\n",
    "| git pull | Actualiza el repositorio local con los últimos cambios del remoto. |\n",
    "| git branch | Lista, crea o elimina ramas. |\n",
    "| git merge [rama] | Fusiona cambios de una rama a otra. |\n",
    "| git checkout [rama o commit] | Cambia a otra rama o vuelve a un commit anterior. |"
   ]
  },
  {
   "cell_type": "markdown",
   "id": "89795622-d889-428b-a98f-504def7c48c4",
   "metadata": {},
   "source": [
    "# 2. GitHub"
   ]
  },
  {
   "cell_type": "markdown",
   "id": "9d0d682a-1e78-4acc-ac54-89eb1e6e91b9",
   "metadata": {},
   "source": [
    "### ¿Qué es GitHub?"
   ]
  },
  {
   "cell_type": "markdown",
   "id": "2ee20a19-3215-4434-9880-7ef1fa44f343",
   "metadata": {},
   "source": [
    "GitHub es una **plataforma de alojamiento de código** para el control de versiones y la colaboración (la más usada a día de hoy). Permite a los desarrolladores y equipos almacenar sus proyectos en repositorios, colaborar en código, y rastrear y gestionar cambios utilizando Git."
   ]
  },
  {
   "cell_type": "markdown",
   "id": "3dc8971c-d91d-4dd1-a0e4-10cccbc0ca92",
   "metadata": {},
   "source": [
    "### Git y GitHub"
   ]
  },
  {
   "cell_type": "markdown",
   "id": "88e948fd-9304-416f-9b1f-18cd270065a7",
   "metadata": {},
   "source": [
    "Git es una **herramienta de control de versiones** distribuido, que nos permite a los desarrolladores trabajar en un proyecto sin necesidad de estar conectados a un servidor central. Por otro lado, GitHub es una **plataforma en línea** que se utiliza para alojar proyectos que se gestionan mediante Git. Aunque GitHub depende de Git, no son lo mismo."
   ]
  },
  {
   "cell_type": "markdown",
   "id": "6f709278-8449-4b6d-877d-46220c55b8b8",
   "metadata": {},
   "source": [
    "# 3. MagicCells"
   ]
  },
  {
   "cell_type": "markdown",
   "id": "0d3bfbf4-09f7-4269-ad09-df023a16eac2",
   "metadata": {
    "tags": []
   },
   "source": [
    "### ¿Qué son las MagicCells?"
   ]
  },
  {
   "cell_type": "markdown",
   "id": "4e9ae544-bbf6-4c84-a8d9-c52c3ff38c7f",
   "metadata": {},
   "source": [
    "Las ***MagicCells*** (celdas mágicas, según su traducción literal), permiten a los usuarios ejecutar comandos de consola desde _Jupyter Notebooks_, dando la posibilidad de afectar el comportamiento del propio *notebook*, interactuar con el sistema de archivos y el sistema operativo, o incluso integrar código de otros lenguajes."
   ]
  },
  {
   "cell_type": "markdown",
   "id": "b20508d8-f597-4d5d-91db-6102c596d4e0",
   "metadata": {
    "tags": []
   },
   "source": [
    "### MagicCells y Git/GitHub"
   ]
  },
  {
   "cell_type": "markdown",
   "id": "7d882acb-1949-4e5b-83e0-3150c1b092e6",
   "metadata": {},
   "source": [
    "Dado que las *MagicCells* permiten ejecutar código de consola desde el *notebook*, se vuelve posible ejecutar comandos de ***git*** directamente desde él."
   ]
  },
  {
   "cell_type": "markdown",
   "id": "1676372d-7a38-451f-bec6-c288e1c12de9",
   "metadata": {},
   "source": [
    "### Subir archivo .ipynb a un repositorio de GitHub"
   ]
  },
  {
   "cell_type": "code",
   "execution_count": 1,
   "id": "576c2e09-f653-46bf-a62d-232ab3f4a9cb",
   "metadata": {
    "tags": []
   },
   "outputs": [],
   "source": [
    "!git config --global user.name victormanuel-rodriguez\n",
    "!git config --global user.email victormanuel.rodriguez@galileo.edu"
   ]
  },
  {
   "cell_type": "code",
   "execution_count": 2,
   "id": "114fa5e2-0b60-4117-ae9f-2f06cbcde02a",
   "metadata": {},
   "outputs": [
    {
     "name": "stdout",
     "output_type": "stream",
     "text": [
      "Initialized empty Git repository in C:/Users/vmrod/Documents/Laboratorios/.git/\n"
     ]
    }
   ],
   "source": [
    "!git init"
   ]
  },
  {
   "cell_type": "code",
   "execution_count": 3,
   "id": "4c7388ea-cbc9-4f79-a7b3-2394fec36020",
   "metadata": {
    "tags": []
   },
   "outputs": [
    {
     "name": "stderr",
     "output_type": "stream",
     "text": [
      "warning: in the working copy of 'Lab_1_VR.ipynb', LF will be replaced by CRLF the next time Git touches it\n"
     ]
    }
   ],
   "source": [
    "!git add Lab_1_VR.ipynb"
   ]
  },
  {
   "cell_type": "code",
   "execution_count": 4,
   "id": "aaee5758-51dc-457a-9ce6-5c2675649ca4",
   "metadata": {
    "tags": []
   },
   "outputs": [
    {
     "name": "stdout",
     "output_type": "stream",
     "text": [
      "[master (root-commit) 5dd89aa] Notebook commit\n",
      " 1 file changed, 259 insertions(+)\n",
      " create mode 100644 Lab_1_VR.ipynb\n"
     ]
    }
   ],
   "source": [
    "!git commit -m \"Notebook commit\""
   ]
  },
  {
   "cell_type": "code",
   "execution_count": 6,
   "id": "ef314aae-e9d0-428f-86f1-2ec6c01cf592",
   "metadata": {
    "tags": []
   },
   "outputs": [],
   "source": [
    "!git remote add origin https://github.com/victormanuel-rodriguez/DScInPython.git"
   ]
  },
  {
   "cell_type": "code",
   "execution_count": null,
   "id": "6edb4b75-a02c-45c4-bec6-d3d604edf8f7",
   "metadata": {
    "tags": []
   },
   "outputs": [],
   "source": [
    "!git push -u origin master"
   ]
  },
  {
   "cell_type": "code",
   "execution_count": null,
   "id": "86b899b3-ec5e-49a4-a55b-55ab55f6135a",
   "metadata": {},
   "outputs": [],
   "source": []
  }
 ],
 "metadata": {
  "kernelspec": {
   "display_name": "Python 3 (ipykernel)",
   "language": "python",
   "name": "python3"
  },
  "language_info": {
   "codemirror_mode": {
    "name": "ipython",
    "version": 3
   },
   "file_extension": ".py",
   "mimetype": "text/x-python",
   "name": "python",
   "nbconvert_exporter": "python",
   "pygments_lexer": "ipython3",
   "version": "3.11.5"
  }
 },
 "nbformat": 4,
 "nbformat_minor": 5
}
