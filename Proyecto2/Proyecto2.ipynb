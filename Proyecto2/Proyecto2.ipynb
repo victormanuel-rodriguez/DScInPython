{
 "cells": [
  {
   "cell_type": "markdown",
   "id": "4112ff28-2f5d-41f2-bbd7-ea73ae156f91",
   "metadata": {},
   "source": [
    "# Proyecto 2\n",
    "### Ingeniería de Datos\n",
    "> *Estudiante: Víctor Manuel Rodríguez Umaña*\n",
    "\n",
    "> *Carnet: 24007670*\n",
    "\n",
    "> *Curso: Ciencia de Datos en Python*"
   ]
  },
  {
   "cell_type": "code",
   "execution_count": null,
   "id": "37c369b6-6851-45cf-88f3-85c061e6963a",
   "metadata": {},
   "outputs": [],
   "source": []
  }
 ],
 "metadata": {
  "kernelspec": {
   "display_name": "Python 3 (ipykernel)",
   "language": "python",
   "name": "python3"
  },
  "language_info": {
   "codemirror_mode": {
    "name": "ipython",
    "version": 3
   },
   "file_extension": ".py",
   "mimetype": "text/x-python",
   "name": "python",
   "nbconvert_exporter": "python",
   "pygments_lexer": "ipython3",
   "version": "3.11.5"
  }
 },
 "nbformat": 4,
 "nbformat_minor": 5
}
