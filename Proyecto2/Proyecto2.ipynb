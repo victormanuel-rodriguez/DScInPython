{
 "cells": [
  {
   "cell_type": "markdown",
   "id": "4112ff28-2f5d-41f2-bbd7-ea73ae156f91",
   "metadata": {},
   "source": [
    "# Proyecto 2\n",
    "### Ingeniería de Datos\n",
    "> *Estudiante: Víctor Manuel Rodríguez Umaña*\n",
    "\n",
    "> *Carnet: 24007670*\n",
    "\n",
    "> *Curso: Ciencia de Datos en Python*"
   ]
  },
  {
   "cell_type": "code",
   "execution_count": 7,
   "id": "37c369b6-6851-45cf-88f3-85c061e6963a",
   "metadata": {},
   "outputs": [],
   "source": [
    "import boto3\n",
    "import pandas as pd\n",
    "import numpy as np\n",
    "import configparser\n",
    "import psycopg2"
   ]
  },
  {
   "cell_type": "markdown",
   "id": "3d90c70e-8fad-4e5b-97d5-3aaaca2295fa",
   "metadata": {
    "tags": []
   },
   "source": [
    "### Lectura de archivo de configuración, conexión y validación de instancias de la BD"
   ]
  },
  {
   "cell_type": "code",
   "execution_count": 20,
   "id": "4757b002-429a-4085-8511-ae2976f9875b",
   "metadata": {
    "tags": []
   },
   "outputs": [
    {
     "data": {
      "text/plain": [
       "['config.cfg']"
      ]
     },
     "execution_count": 20,
     "metadata": {},
     "output_type": "execute_result"
    }
   ],
   "source": [
    "config = configparser.ConfigParser()\n",
    "config.read('config.cfg')"
   ]
  },
  {
   "cell_type": "code",
   "execution_count": 10,
   "id": "6f92261b-6b4f-4cc8-a115-6adceaf1debc",
   "metadata": {
    "tags": []
   },
   "outputs": [],
   "source": [
    "aws_rds_conn = boto3.client('rds', aws_access_key_id=config.get('IAM', 'ACCESS_KEY'),\n",
    "                           aws_secret_access_key=config.get('IAM', 'SECRET_KEY'),\n",
    "                           region_name='us-east-1')"
   ]
  },
  {
   "cell_type": "code",
   "execution_count": 11,
   "id": "ee3dceb2-dd65-4568-b4e9-87ae6866faec",
   "metadata": {
    "tags": []
   },
   "outputs": [
    {
     "name": "stdout",
     "output_type": "stream",
     "text": [
      "Instancias disponibles: ['tienda-db-pg']\n"
     ]
    }
   ],
   "source": [
    "rds_instances_ids = []\n",
    "aws_response = aws_rds_conn.describe_db_instances()\n",
    "for response in aws_response['DBInstances']:\n",
    "    rds_instances_ids.append(response['DBInstanceIdentifier'])\n",
    "print(f\"Instancias disponibles: {rds_instances_ids}\")"
   ]
  },
  {
   "cell_type": "markdown",
   "id": "12f2bbd9-f653-4691-85f3-0e53c7fd9ef8",
   "metadata": {},
   "source": [
    "### Creación de la instancia de la BD"
   ]
  },
  {
   "cell_type": "code",
   "execution_count": 24,
   "id": "66ef12a8-d758-43f0-af14-5d6ad1e2ce72",
   "metadata": {
    "tags": []
   },
   "outputs": [
    {
     "name": "stdout",
     "output_type": "stream",
     "text": [
      "{'DBInstance': {'DBInstanceIdentifier': 'tienda-db-pg', 'DBInstanceClass': 'db.t3.micro', 'Engine': 'postgres', 'DBInstanceStatus': 'creating', 'MasterUsername': 'postgres_admin', 'DBName': 'tienda', 'AllocatedStorage': 20, 'PreferredBackupWindow': '07:11-07:41', 'BackupRetentionPeriod': 1, 'DBSecurityGroups': [], 'VpcSecurityGroups': [{'VpcSecurityGroupId': 'sg-07ad5a13995b326d6', 'Status': 'active'}], 'DBParameterGroups': [{'DBParameterGroupName': 'default.postgres16', 'ParameterApplyStatus': 'in-sync'}], 'DBSubnetGroup': {'DBSubnetGroupName': 'default', 'DBSubnetGroupDescription': 'default', 'VpcId': 'vpc-0b6b8a53854b596e9', 'SubnetGroupStatus': 'Complete', 'Subnets': [{'SubnetIdentifier': 'subnet-018a924b61683ebfd', 'SubnetAvailabilityZone': {'Name': 'us-east-1b'}, 'SubnetOutpost': {}, 'SubnetStatus': 'Active'}, {'SubnetIdentifier': 'subnet-02b843d027c14408a', 'SubnetAvailabilityZone': {'Name': 'us-east-1a'}, 'SubnetOutpost': {}, 'SubnetStatus': 'Active'}, {'SubnetIdentifier': 'subnet-0ab36fb21077219c3', 'SubnetAvailabilityZone': {'Name': 'us-east-1f'}, 'SubnetOutpost': {}, 'SubnetStatus': 'Active'}, {'SubnetIdentifier': 'subnet-09b77db35665ef446', 'SubnetAvailabilityZone': {'Name': 'us-east-1d'}, 'SubnetOutpost': {}, 'SubnetStatus': 'Active'}, {'SubnetIdentifier': 'subnet-0bf349998f833c972', 'SubnetAvailabilityZone': {'Name': 'us-east-1c'}, 'SubnetOutpost': {}, 'SubnetStatus': 'Active'}, {'SubnetIdentifier': 'subnet-03fce372af898d6d8', 'SubnetAvailabilityZone': {'Name': 'us-east-1e'}, 'SubnetOutpost': {}, 'SubnetStatus': 'Active'}]}, 'PreferredMaintenanceWindow': 'tue:06:00-tue:06:30', 'PendingModifiedValues': {'MasterUserPassword': '****'}, 'MultiAZ': False, 'EngineVersion': '16.1', 'AutoMinorVersionUpgrade': True, 'ReadReplicaDBInstanceIdentifiers': [], 'LicenseModel': 'postgresql-license', 'OptionGroupMemberships': [{'OptionGroupName': 'default:postgres-16', 'Status': 'in-sync'}], 'PubliclyAccessible': True, 'StorageType': 'gp2', 'DbInstancePort': 0, 'StorageEncrypted': False, 'DbiResourceId': 'db-Z22ZMIMACHMBWLVVJ4O264XXMY', 'CACertificateIdentifier': 'rds-ca-rsa2048-g1', 'DomainMemberships': [], 'CopyTagsToSnapshot': False, 'MonitoringInterval': 0, 'DBInstanceArn': 'arn:aws:rds:us-east-1:058264144210:db:tienda-db-pg', 'IAMDatabaseAuthenticationEnabled': False, 'PerformanceInsightsEnabled': False, 'DeletionProtection': False, 'AssociatedRoles': [], 'TagList': [], 'CustomerOwnedIpEnabled': False, 'BackupTarget': 'region', 'NetworkType': 'IPV4', 'StorageThroughput': 0, 'CertificateDetails': {'CAIdentifier': 'rds-ca-rsa2048-g1'}, 'DedicatedLogVolume': False}, 'ResponseMetadata': {'RequestId': '4a003eec-b6c5-4cb8-8e76-b76162d77b62', 'HTTPStatusCode': 200, 'HTTPHeaders': {'x-amzn-requestid': '4a003eec-b6c5-4cb8-8e76-b76162d77b62', 'strict-transport-security': 'max-age=31536000', 'content-type': 'text/xml', 'content-length': '4052', 'date': 'Mon, 15 Apr 2024 06:06:31 GMT'}, 'RetryAttempts': 0}}\n"
     ]
    }
   ],
   "source": [
    "try:\n",
    "    response = aws_rds_conn.create_db_instance(DBInstanceIdentifier=config.get('TIENDA', 'DB_INSTANCE_ID'),\n",
    "                                               DBName=config.get('TIENDA', 'DB_NAME'),\n",
    "                                               MasterUsername=config.get('TIENDA', 'DB_USERNAME'),\n",
    "                                               MasterUserPassword=config.get('TIENDA', 'DB_PASSWORD'),\n",
    "                                               Port=int(config.get('TIENDA', 'DB_PORT')),\n",
    "                                               DBInstanceClass='db.t3.micro',\n",
    "                                               Engine='postgres',\n",
    "                                               PubliclyAccessible=True,\n",
    "                                               AllocatedStorage=20,\n",
    "                                               VpcSecurityGroupIds=[config.get('VPC', 'SECURITY_GROUP')]\n",
    "                                            )\n",
    "    print(response)\n",
    "except aws_rds_conn.exceptions.DBInstanceAlreadyExistsFault:\n",
    "    print(\"La instancia ya existe\")\n",
    "except Exception as ex:\n",
    "    print(\"Error:\", ex)"
   ]
  },
  {
   "cell_type": "code",
   "execution_count": null,
   "id": "f096e608-fdf9-4986-9b7e-d3ba9a2faaed",
   "metadata": {},
   "outputs": [],
   "source": []
  }
 ],
 "metadata": {
  "kernelspec": {
   "display_name": "Python 3 (ipykernel)",
   "language": "python",
   "name": "python3"
  },
  "language_info": {
   "codemirror_mode": {
    "name": "ipython",
    "version": 3
   },
   "file_extension": ".py",
   "mimetype": "text/x-python",
   "name": "python",
   "nbconvert_exporter": "python",
   "pygments_lexer": "ipython3",
   "version": "3.11.5"
  }
 },
 "nbformat": 4,
 "nbformat_minor": 5
}
