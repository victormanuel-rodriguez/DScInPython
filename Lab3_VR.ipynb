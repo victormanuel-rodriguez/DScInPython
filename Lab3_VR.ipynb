{
 "cells": [
  {
   "cell_type": "markdown",
   "id": "80715c46-4579-495a-90a7-b7fc221f3f84",
   "metadata": {},
   "source": [
    "# Laboratorio #3\n",
    "### Análisis de Datos con Python\n",
    "> *Estudiante: Víctor Manuel Rodríguez Umaña*\n",
    "\n",
    "> *Carnet: 24007670*\n",
    "\n",
    "> *Curso: Ciencia de Datos en Python*"
   ]
  },
  {
   "cell_type": "markdown",
   "id": "75e0997f-3d1b-460e-ac7c-0ca17b3362fe",
   "metadata": {},
   "source": [
    "## Parte 1: Numpy"
   ]
  },
  {
   "cell_type": "code",
   "execution_count": 1,
   "id": "bac68355-889b-4a60-809b-4cad87089d43",
   "metadata": {
    "tags": []
   },
   "outputs": [],
   "source": [
    "import numpy as np"
   ]
  },
  {
   "cell_type": "markdown",
   "id": "32882b91-99f4-4411-aa04-44aae73e56df",
   "metadata": {
    "tags": []
   },
   "source": [
    "### Ejercicio 1\n",
    "¿Cuál es el tamaño en bytes de un array de 1000 elementos de tipo booleano?"
   ]
  },
  {
   "cell_type": "code",
   "execution_count": 4,
   "id": "89d100dc-ec0b-4669-8d41-23a4f9255020",
   "metadata": {
    "tags": []
   },
   "outputs": [
    {
     "data": {
      "text/plain": [
       "1000"
      ]
     },
     "execution_count": 4,
     "metadata": {},
     "output_type": "execute_result"
    }
   ],
   "source": [
    "booleanos = np.zeros(1000, dtype='bool')\n",
    "booleanos.nbytes"
   ]
  },
  {
   "cell_type": "markdown",
   "id": "d6950cd8-f5c0-4edd-a1dc-29a6dab5b88f",
   "metadata": {},
   "source": [
    "### Ejercicio 2\n",
    "Cree un array cuyos elementos sean los enteros pares en [1,100] y en orden decreciente. Muestre los 10 últimos por pantalla."
   ]
  },
  {
   "cell_type": "code",
   "execution_count": 7,
   "id": "7e971a31-3472-4c93-9699-86e633b319ea",
   "metadata": {
    "tags": []
   },
   "outputs": [
    {
     "name": "stdout",
     "output_type": "stream",
     "text": [
      "[20 18 16 14 12 10  8  6  4  2]\n"
     ]
    }
   ],
   "source": [
    "pares = np.arange(100, 1, -2)\n",
    "print(pares[-10:])"
   ]
  },
  {
   "cell_type": "markdown",
   "id": "30649ead-045f-4f2c-b284-dd74b3580a1d",
   "metadata": {
    "tags": []
   },
   "source": [
    "### Ejercicio 3\n",
    "Dado el array  \n",
    "    2  4  5  6     \n",
    "    0  3  7  4      \n",
    "    8  8  5  2      \n",
    "    1  5  6  1  \n",
    "Seleccione con una instrucción el subarray de elementos  \n",
    "    0  3  7  4  \n",
    "Después, seleccione el subarray de elementos  \n",
    "    2  5  \n",
    "    8  5"
   ]
  },
  {
   "cell_type": "code",
   "execution_count": 14,
   "id": "922853c5-387b-4d72-b78c-98d4f22aa491",
   "metadata": {
    "tags": []
   },
   "outputs": [],
   "source": [
    "x = np.array([[[2,4,5,6],\n",
    "               [0,3,7,4]],\n",
    "              [[8,8,5,2],\n",
    "               [1,5,6,1,]]\n",
    "             ])"
   ]
  },
  {
   "cell_type": "code",
   "execution_count": 15,
   "id": "53daf873-65a9-40c2-a621-3effffaac187",
   "metadata": {
    "tags": []
   },
   "outputs": [
    {
     "data": {
      "text/plain": [
       "array([0, 3, 7, 4])"
      ]
     },
     "execution_count": 15,
     "metadata": {},
     "output_type": "execute_result"
    }
   ],
   "source": [
    "x[0,1]"
   ]
  },
  {
   "cell_type": "code",
   "execution_count": 23,
   "id": "e40ea9c7-743f-469f-8414-adc2a057f0db",
   "metadata": {
    "tags": []
   },
   "outputs": [
    {
     "data": {
      "text/plain": [
       "[[2, 5], [8, 5]]"
      ]
     },
     "execution_count": 23,
     "metadata": {},
     "output_type": "execute_result"
    }
   ],
   "source": [
    "[[x[0,0,0], x[0,0,2]], [x[1,0,0], x[1,0,2]]]"
   ]
  },
  {
   "cell_type": "markdown",
   "id": "82ed91b1-fe53-4566-8185-864f52a4d73f",
   "metadata": {
    "tags": []
   },
   "source": [
    "### Ejercicio 4\n",
    "Dados los arrays a = [1, 4, 2, 7] y b = [1, 3, 2, 9], obtenga la media aritmética de la diferencia (a-b)."
   ]
  },
  {
   "cell_type": "code",
   "execution_count": 25,
   "id": "bb338f7a-4c02-40be-969d-d97e1ab96a4a",
   "metadata": {
    "tags": []
   },
   "outputs": [
    {
     "data": {
      "text/plain": [
       "-0.25"
      ]
     },
     "execution_count": 25,
     "metadata": {},
     "output_type": "execute_result"
    }
   ],
   "source": [
    "a = np.array([1, 4, 2, 7])\n",
    "b = np.array([1, 3, 2, 9])\n",
    "np.mean(a-b)"
   ]
  },
  {
   "cell_type": "markdown",
   "id": "6107be91-5813-4132-a049-067512635647",
   "metadata": {},
   "source": [
    "### Ejercicio 5\n",
    "Tengo valores de cordenadas (x, y) en las columnas del array  \n",
    "    1.33 4.5  \n",
    "    30.0 10.7  \n",
    "    70.2 0.5  \n",
    "    Agregue a este array las coordenadas (37.1, -3.6). Muestre en pantalla las dimensiones del nuevo array."
   ]
  },
  {
   "cell_type": "code",
   "execution_count": 58,
   "id": "f302fc07-7710-4ec6-9fb5-da3bdd40ef77",
   "metadata": {
    "tags": []
   },
   "outputs": [
    {
     "data": {
      "text/plain": [
       "array([[ 1.33,  4.5 ],\n",
       "       [30.  , 10.7 ],\n",
       "       [70.2 ,  0.5 ],\n",
       "       [37.1 , -3.6 ]])"
      ]
     },
     "execution_count": 58,
     "metadata": {},
     "output_type": "execute_result"
    }
   ],
   "source": [
    "coordenadas = np.array([[1.33, 4.5],\n",
    "                        [30.0, 10.7],\n",
    "                        [70.2, 0.5]\n",
    "                       ])\n",
    "coordenadas = np.vstack((coordenadas, [37.1, -3.6]))\n",
    "coordenadas"
   ]
  },
  {
   "cell_type": "code",
   "execution_count": 59,
   "id": "d57d3f52-6542-4c37-bb3f-80d21ceb8f2e",
   "metadata": {
    "tags": []
   },
   "outputs": [
    {
     "data": {
      "text/plain": [
       "(4, 2)"
      ]
     },
     "execution_count": 59,
     "metadata": {},
     "output_type": "execute_result"
    }
   ],
   "source": [
    "coordenadas.shape"
   ]
  },
  {
   "cell_type": "markdown",
   "id": "6338c824-c0f9-488c-849d-076fdf529498",
   "metadata": {},
   "source": [
    "### Ejercicio 6.\n",
    "Copie el array del ejercicio anterior. Traspóngalo.Agregue ahora dos nuevos pares de coordenadas: (10.8, 3.0) y (35.8, 12.0)."
   ]
  },
  {
   "cell_type": "code",
   "execution_count": 64,
   "id": "bc400826-36d7-4b57-b1b2-79206802efe7",
   "metadata": {
    "tags": []
   },
   "outputs": [
    {
     "data": {
      "text/plain": [
       "array([[ 1.33, 30.  , 70.2 , 37.1 ],\n",
       "       [ 4.5 , 10.7 ,  0.5 , -3.6 ]])"
      ]
     },
     "execution_count": 64,
     "metadata": {},
     "output_type": "execute_result"
    }
   ],
   "source": [
    "transpuesto = np.transpose(coordenadas)\n",
    "transpuesto"
   ]
  },
  {
   "cell_type": "code",
   "execution_count": 65,
   "id": "7087e8ec-60e2-447a-bd79-2019e56193d5",
   "metadata": {
    "tags": []
   },
   "outputs": [
    {
     "data": {
      "text/plain": [
       "array([[ 1.33,  4.5 ],\n",
       "       [30.  , 10.7 ],\n",
       "       [70.2 ,  0.5 ],\n",
       "       [37.1 , -3.6 ],\n",
       "       [35.8 , 12.  ]])"
      ]
     },
     "execution_count": 65,
     "metadata": {},
     "output_type": "execute_result"
    }
   ],
   "source": [
    "transpuesto = np.vstack((coordenadas, [10.8, 3.0]))\n",
    "transpuesto = np.vstack((coordenadas, [35.8, 12.0]))\n",
    "transpuesto"
   ]
  },
  {
   "cell_type": "markdown",
   "id": "a292d753-ecd7-4968-a799-a38f0b83eb92",
   "metadata": {
    "tags": []
   },
   "source": [
    "## Parte 2: Exploración y minería de datos"
   ]
  },
  {
   "cell_type": "code",
   "execution_count": 67,
   "id": "f09e5358-dd02-41e9-b2b1-044078bfad45",
   "metadata": {
    "tags": []
   },
   "outputs": [],
   "source": [
    "import pandas as pd"
   ]
  },
  {
   "cell_type": "code",
   "execution_count": 70,
   "id": "6716ff23-5909-4a58-9eba-823b630a4a9d",
   "metadata": {
    "tags": []
   },
   "outputs": [
    {
     "data": {
      "text/html": [
       "<div>\n",
       "<style scoped>\n",
       "    .dataframe tbody tr th:only-of-type {\n",
       "        vertical-align: middle;\n",
       "    }\n",
       "\n",
       "    .dataframe tbody tr th {\n",
       "        vertical-align: top;\n",
       "    }\n",
       "\n",
       "    .dataframe thead th {\n",
       "        text-align: right;\n",
       "    }\n",
       "</style>\n",
       "<table border=\"1\" class=\"dataframe\">\n",
       "  <thead>\n",
       "    <tr style=\"text-align: right;\">\n",
       "      <th></th>\n",
       "      <th>FID</th>\n",
       "      <th>OBJECTID</th>\n",
       "      <th>Texto</th>\n",
       "      <th>Poblacion</th>\n",
       "      <th>CodMun</th>\n",
       "      <th>Municipio</th>\n",
       "      <th>CodProvin</th>\n",
       "      <th>Provincia</th>\n",
       "      <th>X</th>\n",
       "      <th>Y</th>\n",
       "    </tr>\n",
       "  </thead>\n",
       "  <tbody>\n",
       "    <tr>\n",
       "      <th>0</th>\n",
       "      <td>0</td>\n",
       "      <td>1</td>\n",
       "      <td>Agüimes</td>\n",
       "      <td>29431.0</td>\n",
       "      <td>35002</td>\n",
       "      <td>Agüimes</td>\n",
       "      <td>35</td>\n",
       "      <td>Las Palmas</td>\n",
       "      <td>-15.446012</td>\n",
       "      <td>27.900542</td>\n",
       "    </tr>\n",
       "    <tr>\n",
       "      <th>1</th>\n",
       "      <td>1</td>\n",
       "      <td>2</td>\n",
       "      <td>Antigua</td>\n",
       "      <td>10458.0</td>\n",
       "      <td>35003</td>\n",
       "      <td>Antigua</td>\n",
       "      <td>35</td>\n",
       "      <td>Las Palmas</td>\n",
       "      <td>-14.013301</td>\n",
       "      <td>28.418966</td>\n",
       "    </tr>\n",
       "    <tr>\n",
       "      <th>2</th>\n",
       "      <td>2</td>\n",
       "      <td>3</td>\n",
       "      <td>Arrecife</td>\n",
       "      <td>58156.0</td>\n",
       "      <td>35004</td>\n",
       "      <td>Arrecife</td>\n",
       "      <td>35</td>\n",
       "      <td>Las Palmas</td>\n",
       "      <td>-13.551451</td>\n",
       "      <td>28.960649</td>\n",
       "    </tr>\n",
       "    <tr>\n",
       "      <th>3</th>\n",
       "      <td>3</td>\n",
       "      <td>4</td>\n",
       "      <td>Arucas</td>\n",
       "      <td>36745.0</td>\n",
       "      <td>35006</td>\n",
       "      <td>Arucas</td>\n",
       "      <td>35</td>\n",
       "      <td>Las Palmas</td>\n",
       "      <td>-15.521512</td>\n",
       "      <td>28.117496</td>\n",
       "    </tr>\n",
       "    <tr>\n",
       "      <th>4</th>\n",
       "      <td>4</td>\n",
       "      <td>5</td>\n",
       "      <td>Gáldar</td>\n",
       "      <td>24473.0</td>\n",
       "      <td>35009</td>\n",
       "      <td>Gáldar</td>\n",
       "      <td>35</td>\n",
       "      <td>Las Palmas</td>\n",
       "      <td>-15.654111</td>\n",
       "      <td>28.143873</td>\n",
       "    </tr>\n",
       "  </tbody>\n",
       "</table>\n",
       "</div>"
      ],
      "text/plain": [
       "   FID  OBJECTID     Texto  Poblacion  CodMun Municipio  CodProvin  \\\n",
       "0    0         1   Agüimes    29431.0   35002   Agüimes         35   \n",
       "1    1         2   Antigua    10458.0   35003   Antigua         35   \n",
       "2    2         3  Arrecife    58156.0   35004  Arrecife         35   \n",
       "3    3         4    Arucas    36745.0   35006    Arucas         35   \n",
       "4    4         5    Gáldar    24473.0   35009    Gáldar         35   \n",
       "\n",
       "    Provincia          X          Y  \n",
       "0  Las Palmas -15.446012  27.900542  \n",
       "1  Las Palmas -14.013301  28.418966  \n",
       "2  Las Palmas -13.551451  28.960649  \n",
       "3  Las Palmas -15.521512  28.117496  \n",
       "4  Las Palmas -15.654111  28.143873  "
      ]
     },
     "execution_count": 70,
     "metadata": {},
     "output_type": "execute_result"
    }
   ],
   "source": [
    "dataset = pd.read_csv(\"NucleosPoblacion.csv\")\n",
    "dataset.head()"
   ]
  },
  {
   "cell_type": "code",
   "execution_count": null,
   "id": "955f8aad-4ee6-4a87-ae2e-f1e7719fa8d6",
   "metadata": {},
   "outputs": [],
   "source": []
  }
 ],
 "metadata": {
  "kernelspec": {
   "display_name": "Python 3 (ipykernel)",
   "language": "python",
   "name": "python3"
  },
  "language_info": {
   "codemirror_mode": {
    "name": "ipython",
    "version": 3
   },
   "file_extension": ".py",
   "mimetype": "text/x-python",
   "name": "python",
   "nbconvert_exporter": "python",
   "pygments_lexer": "ipython3",
   "version": "3.11.5"
  }
 },
 "nbformat": 4,
 "nbformat_minor": 5
}
