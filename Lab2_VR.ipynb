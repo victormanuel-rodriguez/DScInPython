{
 "cells": [
  {
   "cell_type": "markdown",
   "id": "8381cd7d-ff35-4349-acef-b9cc5ff6a094",
   "metadata": {
    "tags": []
   },
   "source": [
    "# Laboratorio #2\n",
    "### Sintaxis y Estructuras de datos\n",
    "> *Estudiante: Víctor Manuel Rodríguez Umaña*\n",
    "\n",
    "> *Carnet: 24007670*\n",
    "\n",
    "> *Curso: Ciencia de Datos en Python*"
   ]
  },
  {
   "cell_type": "markdown",
   "id": "1ef2131f-78d0-4063-9fb7-eeda1f07d33c",
   "metadata": {
    "tags": []
   },
   "source": [
    "## Ejercicio 1"
   ]
  },
  {
   "cell_type": "code",
   "execution_count": 11,
   "id": "4de7ea8e-ec90-421a-92a7-257474565c3e",
   "metadata": {
    "tags": []
   },
   "outputs": [
    {
     "name": "stdin",
     "output_type": "stream",
     "text": [
      "Ingrese el número de segundos:  5871\n"
     ]
    },
    {
     "name": "stdout",
     "output_type": "stream",
     "text": [
      "Horas: 1, Minutos: 37, Segundos: 51\n",
      "Programa finalizado\n"
     ]
    }
   ],
   "source": [
    "try:\n",
    "    segundos = int(input(\"Ingrese el número de segundos: \"))\n",
    "    horas = int(segundos / 3600)\n",
    "    segundos = segundos - (horas * 3600)\n",
    "    minutos = int(segundos / 60)\n",
    "    segundos = segundos - (minutos * 60)\n",
    "    print(f\"Horas: {horas}, Minutos: {minutos}, Segundos: {segundos}\")\n",
    "except ValueError:\n",
    "    print(\"Error: El valor ingresado no es válido\")\n",
    "except:\n",
    "    print(\"Error\")\n",
    "finally:\n",
    "    print(\"Programa finalizado\")"
   ]
  },
  {
   "cell_type": "markdown",
   "id": "7ff68268-835f-4c4d-9208-d64ed64ed28a",
   "metadata": {},
   "source": [
    "## Ejercicio 2"
   ]
  },
  {
   "cell_type": "code",
   "execution_count": null,
   "id": "3d470c8f-ee4a-44d3-907e-65b056fd86b9",
   "metadata": {},
   "outputs": [],
   "source": []
  }
 ],
 "metadata": {
  "kernelspec": {
   "display_name": "Python 3 (ipykernel)",
   "language": "python",
   "name": "python3"
  },
  "language_info": {
   "codemirror_mode": {
    "name": "ipython",
    "version": 3
   },
   "file_extension": ".py",
   "mimetype": "text/x-python",
   "name": "python",
   "nbconvert_exporter": "python",
   "pygments_lexer": "ipython3",
   "version": "3.11.5"
  }
 },
 "nbformat": 4,
 "nbformat_minor": 5
}
