{
 "cells": [
  {
   "cell_type": "markdown",
   "id": "8381cd7d-ff35-4349-acef-b9cc5ff6a094",
   "metadata": {
    "tags": []
   },
   "source": [
    "# Laboratorio #2\n",
    "### Sintaxis y Estructuras de datos\n",
    "> *Estudiante: Víctor Manuel Rodríguez Umaña*\n",
    "\n",
    "> *Carnet: 24007670*\n",
    "\n",
    "> *Curso: Ciencia de Datos en Python*"
   ]
  },
  {
   "cell_type": "markdown",
   "id": "1ef2131f-78d0-4063-9fb7-eeda1f07d33c",
   "metadata": {
    "tags": []
   },
   "source": [
    "## Ejercicio 1"
   ]
  },
  {
   "cell_type": "code",
   "execution_count": 39,
   "id": "4de7ea8e-ec90-421a-92a7-257474565c3e",
   "metadata": {
    "tags": []
   },
   "outputs": [
    {
     "name": "stdin",
     "output_type": "stream",
     "text": [
      "Ingrese el número de segundos:  5871\n"
     ]
    },
    {
     "name": "stdout",
     "output_type": "stream",
     "text": [
      "Horas: 1, Minutos: 37, Segundos: 51\n",
      "Programa finalizado\n"
     ]
    }
   ],
   "source": [
    "try:\n",
    "    segundos = int(input(\"Ingrese el número de segundos: \"))\n",
    "    horas = int(segundos / 3600)\n",
    "    segundos = segundos - (horas * 3600)\n",
    "    minutos = int(segundos / 60)\n",
    "    segundos = segundos - (minutos * 60)\n",
    "    print(f\"Horas: {horas}, Minutos: {minutos}, Segundos: {segundos}\")\n",
    "except ValueError:\n",
    "    print(\"Error: El valor ingresado no es válido\")\n",
    "except Exception as e:\n",
    "    print(f\"Error: {e}\")\n",
    "finally:\n",
    "    print(\"Programa finalizado\")"
   ]
  },
  {
   "cell_type": "markdown",
   "id": "7ff68268-835f-4c4d-9208-d64ed64ed28a",
   "metadata": {},
   "source": [
    "## Ejercicio 2"
   ]
  },
  {
   "cell_type": "code",
   "execution_count": 40,
   "id": "3d470c8f-ee4a-44d3-907e-65b056fd86b9",
   "metadata": {
    "tags": []
   },
   "outputs": [
    {
     "name": "stdin",
     "output_type": "stream",
     "text": [
      "Ingrese un número entre 1 y 20:  4\n",
      "Ingrese un caracter cualquiera:  *\n"
     ]
    },
    {
     "name": "stdout",
     "output_type": "stream",
     "text": [
      "*      ****      ****      *\n",
      "**      ***      ***      **\n",
      "***      **      **      ***\n",
      "****      *      *      ****\n",
      "Programa finalizado\n"
     ]
    }
   ],
   "source": [
    "try:\n",
    "    #Solicita, valida y almacena el número\n",
    "    numero = int(input(\"Ingrese un número entre 1 y 20: \"))\n",
    "    while (not(numero >= 1 and numero <=20)):\n",
    "        print(\"Error: Se requiere un número entre 1 y 20\")\n",
    "        numero = int(input(\"Ingrese un número entre 1 y 20: \"))\n",
    "    \n",
    "    #Solicita, valida y almacena el caracter\n",
    "    caracter = input(\"Ingrese un caracter cualquiera: \")\n",
    "    while (len(caracter) != 1):\n",
    "        print(\"Error: Se requiere un solo caracter\")\n",
    "        caracter = input(\"Ingrese un caracter cualquiera: \")\n",
    "        \n",
    "    #Genera el patrón visual\n",
    "    for i in range(1, numero + 1):\n",
    "        print(caracter*i, \" \"*(numero), caracter*(numero+1-i),\n",
    "              \" \"*(numero), caracter*(numero+1-i), \" \"*(numero), caracter*i)\n",
    "except ValueError:\n",
    "    print(\"Error: El valor ingresado no es válido\")\n",
    "except Exception as e:\n",
    "    print(f\"Error: {e}\")\n",
    "finally:\n",
    "    print(\"Programa finalizado\")"
   ]
  },
  {
   "cell_type": "markdown",
   "id": "577afb28-5a2b-4dd8-b837-a8511a8fb363",
   "metadata": {},
   "source": [
    "## Ejercicio 3"
   ]
  },
  {
   "cell_type": "code",
   "execution_count": 48,
   "id": "5fca2151-c446-4365-917b-9edb5f850f36",
   "metadata": {
    "tags": []
   },
   "outputs": [
    {
     "name": "stdin",
     "output_type": "stream",
     "text": [
      "Ingrese el día de nacimiento:  10\n",
      "Ingrese el mes de nacimiento:  01\n",
      "Ingrese el año de nacimiento:  1988\n"
     ]
    },
    {
     "name": "stdout",
     "output_type": "stream",
     "text": [
      "Edad: 36 años, 1 meses, 24 días.\n",
      "Programa finalizado\n"
     ]
    }
   ],
   "source": [
    "from datetime import datetime\n",
    "\n",
    "try:\n",
    "    dia = int(input(\"Ingrese el día de nacimiento: \"))\n",
    "    mes = int(input(\"Ingrese el mes de nacimiento: \"))\n",
    "    anio = int(input(\"Ingrese el año de nacimiento: \"))\n",
    "    \n",
    "    fnac = datetime(anio, mes, dia)\n",
    "    fhoy = datetime.now()\n",
    "\n",
    "    diferencia = fhoy - fnac\n",
    "    dias_vividos = diferencia.days\n",
    "    anios = int(dias_vividos / 365)\n",
    "    dias_vividos = dias_vividos - int(anios/4) #descuenta los días por los años bisiestos vividos (aproximación)\n",
    "    meses = int((dias_vividos % 365) / 30)\n",
    "    dias = (dias_vividos % 365) % 30    \n",
    "    \n",
    "    print(f\"Edad: {anios} años, {meses} meses, {dias} días.\")\n",
    "except ValueError:\n",
    "    print(\"Error: El valor ingresado no es válido.\")\n",
    "except Exception as e:\n",
    "    print(f\"Error: {e}\")\n",
    "finally:\n",
    "    print(\"Programa finalizado\")"
   ]
  },
  {
   "cell_type": "markdown",
   "id": "a364cd39-3543-4b25-9863-41023679bc71",
   "metadata": {},
   "source": [
    "## Ejercicio 4"
   ]
  },
  {
   "cell_type": "code",
   "execution_count": 32,
   "id": "0e859dde-0356-4e3a-9bae-5d1013e59bcd",
   "metadata": {
    "tags": []
   },
   "outputs": [
    {
     "name": "stdout",
     "output_type": "stream",
     "text": [
      "Resultado: 102040570\n"
     ]
    }
   ],
   "source": [
    "def tupla_a_string(tupla):\n",
    "    resultado = ''\n",
    "    for elemento in tupla:\n",
    "        resultado = resultado + str(elemento)\n",
    "    return resultado\n",
    "\n",
    "#Ejemplo de uso de la función\n",
    "tupla = (10, 20, 40, 5, 70)\n",
    "convertida = tupla_a_string(tupla)\n",
    "print(f\"Resultado: {convertida}\")"
   ]
  },
  {
   "cell_type": "markdown",
   "id": "0631f2af-3760-429e-ae25-883242e9bf9d",
   "metadata": {},
   "source": [
    "## Ejercicio 5"
   ]
  },
  {
   "cell_type": "code",
   "execution_count": 40,
   "id": "addfd2b1-2a07-44d5-a293-71f35f177be8",
   "metadata": {
    "tags": []
   },
   "outputs": [
    {
     "data": {
      "text/plain": [
       "['X', ('a', 'b'), ('a', 'b', 'c'), 'd']"
      ]
     },
     "execution_count": 40,
     "metadata": {},
     "output_type": "execute_result"
    }
   ],
   "source": [
    "def eliminar_tuplas_vacias(lista):\n",
    "    try:\n",
    "        #Uso de comprehensions descartando las tuplas vacías, dado que en prueba lógica devuelven false\n",
    "        nueva_lista = [tupla for tupla in lista if tupla]\n",
    "        return nueva_lista\n",
    "    except Exception as e:\n",
    "        print(f\"Error: {e}\")\n",
    "\n",
    "#Ejemplo de uso de la función\n",
    "lista = [(), (), ('X'), ('a', 'b'), ('a', 'b', 'c'), ('d')]\n",
    "lista = eliminar_tuplas_vacias(lista)\n",
    "lista"
   ]
  },
  {
   "cell_type": "markdown",
   "id": "b44ce518-f780-49ac-a464-c758c44592d2",
   "metadata": {},
   "source": [
    "## Ejercicio 6"
   ]
  },
  {
   "cell_type": "code",
   "execution_count": 4,
   "id": "f64aca58-2ebf-40d6-9b89-ca1f5a99de78",
   "metadata": {
    "tags": []
   },
   "outputs": [
    {
     "data": {
      "text/plain": [
       "(10.5, 44.0, 58.0)"
      ]
     },
     "execution_count": 4,
     "metadata": {},
     "output_type": "execute_result"
    }
   ],
   "source": [
    "def promedio_tuplas(tuplas):\n",
    "    try:\n",
    "        #Uso de comprehensions descartando las tuplas vacías, dado que en prueba lógica devuelven false\n",
    "        promedios = tuple(sum(tupla)/len(tupla) for tupla in tuplas)\n",
    "        return promedios\n",
    "    except Exception as e:\n",
    "        print(f\"Error: {e}\")\n",
    "\n",
    "#Ejemplo de uso de la función\n",
    "entrada = ((10, 10, 10, 12), (30, 45, 56, 45), (81, 80, 39, 32))\n",
    "resultado = promedio_tuplas(entrada)\n",
    "resultado"
   ]
  },
  {
   "cell_type": "markdown",
   "id": "5b81070d-6821-4d1b-bb17-d20435e7f6fc",
   "metadata": {
    "tags": []
   },
   "source": [
    "## Ejercicio 7"
   ]
  },
  {
   "cell_type": "code",
   "execution_count": 80,
   "id": "c5dfd88a-48dd-4121-9bd0-2ce76aeae61c",
   "metadata": {
    "tags": []
   },
   "outputs": [],
   "source": [
    "def mostrar_opciones(facturas):\n",
    "    print(\"¿Qué acción desea realizar?\")\n",
    "    print(\"   A. Agregar una nueva factura\")\n",
    "    if len(facturas) > 0: #solo muestra la opción de eliminar, si hay facturas registradas\n",
    "        print(\"   P. Pagar una factura existente\")\n",
    "    print(\"   S. Salir\")"
   ]
  },
  {
   "cell_type": "code",
   "execution_count": 60,
   "id": "699ef0de-ed93-4629-8009-0bc9d32694a2",
   "metadata": {},
   "outputs": [],
   "source": [
    "def agregar_factura(facturas):\n",
    "    num_factura = \"\"\n",
    "    val_factura = 0\n",
    "    while num_factura == \"\":\n",
    "        num_factura = input(\"Ingrese el número de factura (4 dígitos): \")\n",
    "        if len(num_factura) != 4 or not num_factura.isdigit():\n",
    "            print(\"Número inválido\")\n",
    "            num_factura = \"\"\n",
    "    while val_factura == 0:\n",
    "        try:\n",
    "            val_factura = float(input(f\"Ingrese el valor de la factura {num_factura} (número mayor que cero): \"))\n",
    "            if val_factura > 0: #es número mayor que cero\n",
    "                if (val_factura * 100) - int(val_factura * 100) == 0: #Verifica que no exceda de dos números decimales\n",
    "                    facturas[num_factura] = val_factura\n",
    "                    print(f\"\\nSe ha registrado la factura número: {num_factura}, con un valor de: {val_factura}\\n\")\n",
    "                else:\n",
    "                    print(\"Debe ingresar un valor monetario (no más de dos decimales)\")\n",
    "                    val_factura = 0\n",
    "            else: #es número, pero no es mayor que cero\n",
    "                print(\"El valor debe ser mayor que cero\")\n",
    "                val_factura = 0\n",
    "        except ValueError:\n",
    "            print(\"Error: El valor ingresado no es numérico\")"
   ]
  },
  {
   "cell_type": "code",
   "execution_count": 77,
   "id": "099737f8-6cc3-410a-9112-cf875f9c3141",
   "metadata": {
    "tags": []
   },
   "outputs": [],
   "source": [
    "def pagar_factura(facturas):\n",
    "    num_factura = \"\"\n",
    "    while num_factura == \"\":\n",
    "        num_factura = input(\"Ingrese el número de factura a pagar: \")\n",
    "        if num_factura in facturas:\n",
    "            val_factura = facturas.pop(num_factura)\n",
    "            print(f\"\\nSe ha registrado el pago de la factura {num_factura}, por un valor de: {val_factura}\\n\")\n",
    "            return val_factura\n",
    "        else:\n",
    "            print(f\"\\nNo existe ninguna factura con número {num_factura}\")\n",
    "            num_factura = \"\""
   ]
  },
  {
   "cell_type": "code",
   "execution_count": 83,
   "id": "f0250442-4ef3-413c-a827-79914d054c88",
   "metadata": {
    "tags": []
   },
   "outputs": [
    {
     "name": "stdout",
     "output_type": "stream",
     "text": [
      "\n",
      "Bienvenido al programa de gestión de facturas.\n",
      "\n",
      "¿Qué acción desea realizar?\n",
      "   A. Agregar una nueva factura\n",
      "   S. Salir\n"
     ]
    },
    {
     "name": "stdin",
     "output_type": "stream",
     "text": [
      "Ingrese la letra de la opción deseada:  a\n",
      "Ingrese el número de factura (4 dígitos):  1234\n",
      "Ingrese el valor de la factura 1234 (número mayor que cero):  12.34\n"
     ]
    },
    {
     "name": "stdout",
     "output_type": "stream",
     "text": [
      "\n",
      "Se ha registrado la factura número: 1234, con un valor de: 12.34\n",
      "\n",
      "============================================================\n",
      "\n",
      "Luego de la operación realizada, el status es el siguiente:\n",
      "\n",
      "Total cobrado hasta el momento: 0\n",
      "\n",
      "Facturas pendientes de cobro:\n",
      "Num. | Valor\n",
      "--------------------\n",
      "1234 : 12.34\n",
      "--------------------\n",
      "\n",
      "Total pendiente de cobro: 12.34\n",
      "\n",
      "============================================================\n",
      "\n",
      "¿Qué acción desea realizar?\n",
      "   A. Agregar una nueva factura\n",
      "   P. Pagar una factura existente\n",
      "   S. Salir\n"
     ]
    },
    {
     "name": "stdin",
     "output_type": "stream",
     "text": [
      "Ingrese la letra de la opción deseada:  a\n",
      "Ingrese el número de factura (4 dígitos):  2345\n",
      "Ingrese el valor de la factura 2345 (número mayor que cero):  23.45\n"
     ]
    },
    {
     "name": "stdout",
     "output_type": "stream",
     "text": [
      "\n",
      "Se ha registrado la factura número: 2345, con un valor de: 23.45\n",
      "\n",
      "============================================================\n",
      "\n",
      "Luego de la operación realizada, el status es el siguiente:\n",
      "\n",
      "Total cobrado hasta el momento: 0\n",
      "\n",
      "Facturas pendientes de cobro:\n",
      "Num. | Valor\n",
      "--------------------\n",
      "1234 : 12.34\n",
      "2345 : 23.45\n",
      "--------------------\n",
      "\n",
      "Total pendiente de cobro: 35.79\n",
      "\n",
      "============================================================\n",
      "\n",
      "¿Qué acción desea realizar?\n",
      "   A. Agregar una nueva factura\n",
      "   P. Pagar una factura existente\n",
      "   S. Salir\n"
     ]
    },
    {
     "name": "stdin",
     "output_type": "stream",
     "text": [
      "Ingrese la letra de la opción deseada:  p\n",
      "Ingrese el número de factura a pagar:  1212\n"
     ]
    },
    {
     "name": "stdout",
     "output_type": "stream",
     "text": [
      "\n",
      "No existe ninguna factura con número 1212\n"
     ]
    },
    {
     "name": "stdin",
     "output_type": "stream",
     "text": [
      "Ingrese el número de factura a pagar:  12.34\n"
     ]
    },
    {
     "name": "stdout",
     "output_type": "stream",
     "text": [
      "\n",
      "No existe ninguna factura con número 12.34\n"
     ]
    },
    {
     "name": "stdin",
     "output_type": "stream",
     "text": [
      "Ingrese el número de factura a pagar:  1234\n"
     ]
    },
    {
     "name": "stdout",
     "output_type": "stream",
     "text": [
      "\n",
      "Se ha registrado el pago de la factura 1234, por un valor de: 12.34\n",
      "\n",
      "============================================================\n",
      "\n",
      "Luego de la operación realizada, el status es el siguiente:\n",
      "\n",
      "Total cobrado hasta el momento: 12.34\n",
      "\n",
      "Facturas pendientes de cobro:\n",
      "Num. | Valor\n",
      "--------------------\n",
      "2345 : 23.45\n",
      "--------------------\n",
      "\n",
      "Total pendiente de cobro: 23.45\n",
      "\n",
      "============================================================\n",
      "\n",
      "¿Qué acción desea realizar?\n",
      "   A. Agregar una nueva factura\n",
      "   P. Pagar una factura existente\n",
      "   S. Salir\n"
     ]
    },
    {
     "name": "stdin",
     "output_type": "stream",
     "text": [
      "Ingrese la letra de la opción deseada:  p\n",
      "Ingrese el número de factura a pagar:  2345\n"
     ]
    },
    {
     "name": "stdout",
     "output_type": "stream",
     "text": [
      "\n",
      "Se ha registrado el pago de la factura 2345, por un valor de: 23.45\n",
      "\n",
      "============================================================\n",
      "\n",
      "Luego de la operación realizada, el status es el siguiente:\n",
      "\n",
      "Total cobrado hasta el momento: 35.79\n",
      "\n",
      "Facturas pendientes de cobro:\n",
      "Num. | Valor\n",
      "--------------------\n",
      "--------------------\n",
      "\n",
      "Total pendiente de cobro: 0\n",
      "\n",
      "============================================================\n",
      "\n",
      "¿Qué acción desea realizar?\n",
      "   A. Agregar una nueva factura\n",
      "   S. Salir\n"
     ]
    },
    {
     "name": "stdin",
     "output_type": "stream",
     "text": [
      "Ingrese la letra de la opción deseada:  s\n"
     ]
    },
    {
     "name": "stdout",
     "output_type": "stream",
     "text": [
      "\n",
      "Saliendo del programa.\n"
     ]
    }
   ],
   "source": [
    "facturas = {}\n",
    "total_cobrado = 0\n",
    "salir = False\n",
    "\n",
    "print(\"\\nBienvenido al programa de gestión de facturas.\\n\")\n",
    "\n",
    "while not salir:\n",
    "    mostrar_opciones(facturas)\n",
    "    opcion = input(\"Ingrese la letra de la opción deseada: \")\n",
    "    if opcion == 'A' or opcion == 'a' or opcion == 'P' or opcion == 'p':\n",
    "        if opcion == 'A' or opcion == 'a':\n",
    "            agregar_factura(facturas)\n",
    "        elif opcion == 'P' or opcion == 'p':\n",
    "            total_cobrado += pagar_factura(facturas)\n",
    "            \n",
    "        print('=' * 60)\n",
    "        print(\"\\nLuego de la operación realizada, el status es el siguiente:\")\n",
    "        print(f\"\\nTotal cobrado hasta el momento: {round(total_cobrado, 2)}\\n\")\n",
    "        print(\"Facturas pendientes de cobro:\")\n",
    "        print(\"Num. | Valor\")\n",
    "        print('-' * 20)\n",
    "        for numero, valor in facturas.items():\n",
    "            print(f\"{numero} : {round(valor,2)}\")\n",
    "        print('-' * 20)\n",
    "        print(f\"\\nTotal pendiente de cobro: {round(sum(facturas.values()), 2)}\\n\")\n",
    "        print('=' * 60 + \"\\n\")\n",
    "        \n",
    "    elif opcion == 'S' or opcion =='s':\n",
    "        print(\"\\nSaliendo del programa.\")\n",
    "        salir = True\n",
    "    else:\n",
    "        print(\"\\nOpción no válida.\\n\")"
   ]
  },
  {
   "cell_type": "code",
   "execution_count": null,
   "id": "3fcf1c58-7976-4350-b072-519818fe6826",
   "metadata": {},
   "outputs": [],
   "source": []
  }
 ],
 "metadata": {
  "kernelspec": {
   "display_name": "Python 3 (ipykernel)",
   "language": "python",
   "name": "python3"
  },
  "language_info": {
   "codemirror_mode": {
    "name": "ipython",
    "version": 3
   },
   "file_extension": ".py",
   "mimetype": "text/x-python",
   "name": "python",
   "nbconvert_exporter": "python",
   "pygments_lexer": "ipython3",
   "version": "3.11.5"
  }
 },
 "nbformat": 4,
 "nbformat_minor": 5
}
