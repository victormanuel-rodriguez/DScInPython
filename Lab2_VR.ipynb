{
 "cells": [
  {
   "cell_type": "markdown",
   "id": "8381cd7d-ff35-4349-acef-b9cc5ff6a094",
   "metadata": {
    "tags": []
   },
   "source": [
    "# Laboratorio #2\n",
    "### Sintaxis y Estructuras de datos\n",
    "> *Estudiante: Víctor Manuel Rodríguez Umaña*\n",
    "\n",
    "> *Carnet: 24007670*\n",
    "\n",
    "> *Curso: Ciencia de Datos en Python*"
   ]
  },
  {
   "cell_type": "markdown",
   "id": "1ef2131f-78d0-4063-9fb7-eeda1f07d33c",
   "metadata": {
    "tags": []
   },
   "source": [
    "## Ejercicio 1"
   ]
  },
  {
   "cell_type": "code",
   "execution_count": 39,
   "id": "4de7ea8e-ec90-421a-92a7-257474565c3e",
   "metadata": {
    "tags": []
   },
   "outputs": [
    {
     "name": "stdin",
     "output_type": "stream",
     "text": [
      "Ingrese el número de segundos:  5871\n"
     ]
    },
    {
     "name": "stdout",
     "output_type": "stream",
     "text": [
      "Horas: 1, Minutos: 37, Segundos: 51\n",
      "Programa finalizado\n"
     ]
    }
   ],
   "source": [
    "try:\n",
    "    segundos = int(input(\"Ingrese el número de segundos: \"))\n",
    "    horas = int(segundos / 3600)\n",
    "    segundos = segundos - (horas * 3600)\n",
    "    minutos = int(segundos / 60)\n",
    "    segundos = segundos - (minutos * 60)\n",
    "    print(f\"Horas: {horas}, Minutos: {minutos}, Segundos: {segundos}\")\n",
    "except ValueError:\n",
    "    print(\"Error: El valor ingresado no es válido\")\n",
    "except Exception as e:\n",
    "    print(f\"Error: {e}\")\n",
    "finally:\n",
    "    print(\"Programa finalizado\")"
   ]
  },
  {
   "cell_type": "markdown",
   "id": "7ff68268-835f-4c4d-9208-d64ed64ed28a",
   "metadata": {},
   "source": [
    "## Ejercicio 2"
   ]
  },
  {
   "cell_type": "code",
   "execution_count": 40,
   "id": "3d470c8f-ee4a-44d3-907e-65b056fd86b9",
   "metadata": {
    "tags": []
   },
   "outputs": [
    {
     "name": "stdin",
     "output_type": "stream",
     "text": [
      "Ingrese un número entre 1 y 20:  4\n",
      "Ingrese un caracter cualquiera:  *\n"
     ]
    },
    {
     "name": "stdout",
     "output_type": "stream",
     "text": [
      "*      ****      ****      *\n",
      "**      ***      ***      **\n",
      "***      **      **      ***\n",
      "****      *      *      ****\n",
      "Programa finalizado\n"
     ]
    }
   ],
   "source": [
    "try:\n",
    "    #Solicita, valida y almacena el número\n",
    "    numero = int(input(\"Ingrese un número entre 1 y 20: \"))\n",
    "    while (not(numero >= 1 and numero <=20)):\n",
    "        print(\"Error: Se requiere un número entre 1 y 20\")\n",
    "        numero = int(input(\"Ingrese un número entre 1 y 20: \"))\n",
    "    \n",
    "    #Solicita, valida y almacena el caracter\n",
    "    caracter = input(\"Ingrese un caracter cualquiera: \")\n",
    "    while (len(caracter) != 1):\n",
    "        print(\"Error: Se requiere un solo caracter\")\n",
    "        caracter = input(\"Ingrese un caracter cualquiera: \")\n",
    "        \n",
    "    #Genera el patrón visual\n",
    "    for i in range(1, numero + 1):\n",
    "        print(caracter*i, \" \"*(numero), caracter*(numero+1-i),\n",
    "              \" \"*(numero), caracter*(numero+1-i), \" \"*(numero), caracter*i)\n",
    "except ValueError:\n",
    "    print(\"Error: El valor ingresado no es válido\")\n",
    "except Exception as e:\n",
    "    print(f\"Error: {e}\")\n",
    "finally:\n",
    "    print(\"Programa finalizado\")"
   ]
  },
  {
   "cell_type": "markdown",
   "id": "577afb28-5a2b-4dd8-b837-a8511a8fb363",
   "metadata": {},
   "source": [
    "## Ejercicio 3"
   ]
  },
  {
   "cell_type": "code",
   "execution_count": 48,
   "id": "5fca2151-c446-4365-917b-9edb5f850f36",
   "metadata": {
    "tags": []
   },
   "outputs": [
    {
     "name": "stdin",
     "output_type": "stream",
     "text": [
      "Ingrese el día de nacimiento:  10\n",
      "Ingrese el mes de nacimiento:  01\n",
      "Ingrese el año de nacimiento:  1988\n"
     ]
    },
    {
     "name": "stdout",
     "output_type": "stream",
     "text": [
      "Edad: 36 años, 1 meses, 24 días.\n",
      "Programa finalizado\n"
     ]
    }
   ],
   "source": [
    "from datetime import datetime\n",
    "\n",
    "try:\n",
    "    dia = int(input(\"Ingrese el día de nacimiento: \"))\n",
    "    mes = int(input(\"Ingrese el mes de nacimiento: \"))\n",
    "    anio = int(input(\"Ingrese el año de nacimiento: \"))\n",
    "    \n",
    "    fnac = datetime(anio, mes, dia)\n",
    "    fhoy = datetime.now()\n",
    "\n",
    "    diferencia = fhoy - fnac\n",
    "    dias_vividos = diferencia.days\n",
    "    anios = int(dias_vividos / 365)\n",
    "    dias_vividos = dias_vividos - int(anios/4) #descuenta los días por los años bisiestos vividos (aproximación)\n",
    "    meses = int((dias_vividos % 365) / 30)\n",
    "    dias = (dias_vividos % 365) % 30    \n",
    "    \n",
    "    print(f\"Edad: {anios} años, {meses} meses, {dias} días.\")\n",
    "except ValueError:\n",
    "    print(\"Error: El valor ingresado no es válido.\")\n",
    "except Exception as e:\n",
    "    print(f\"Error: {e}\")\n",
    "finally:\n",
    "    print(\"Programa finalizado\")"
   ]
  },
  {
   "cell_type": "markdown",
   "id": "a364cd39-3543-4b25-9863-41023679bc71",
   "metadata": {},
   "source": [
    "## Ejercicio 4"
   ]
  },
  {
   "cell_type": "code",
   "execution_count": 32,
   "id": "0e859dde-0356-4e3a-9bae-5d1013e59bcd",
   "metadata": {
    "tags": []
   },
   "outputs": [
    {
     "name": "stdout",
     "output_type": "stream",
     "text": [
      "Resultado: 102040570\n"
     ]
    }
   ],
   "source": [
    "def tupla_a_string(tupla):\n",
    "    resultado = ''\n",
    "    for elemento in tupla:\n",
    "        resultado = resultado + str(elemento)\n",
    "    return resultado\n",
    "\n",
    "#Ejemplo de uso de la función\n",
    "tupla = (10, 20, 40, 5, 70)\n",
    "convertida = tupla_a_string(tupla)\n",
    "print(f\"Resultado: {convertida}\")"
   ]
  },
  {
   "cell_type": "markdown",
   "id": "0631f2af-3760-429e-ae25-883242e9bf9d",
   "metadata": {},
   "source": [
    "## Ejercicio 5"
   ]
  },
  {
   "cell_type": "code",
   "execution_count": 40,
   "id": "addfd2b1-2a07-44d5-a293-71f35f177be8",
   "metadata": {
    "tags": []
   },
   "outputs": [
    {
     "data": {
      "text/plain": [
       "['X', ('a', 'b'), ('a', 'b', 'c'), 'd']"
      ]
     },
     "execution_count": 40,
     "metadata": {},
     "output_type": "execute_result"
    }
   ],
   "source": [
    "def eliminar_tuplas_vacias(lista):\n",
    "    try:\n",
    "        #Uso de comprehensions descartando las tuplas vacías, dado que en prueba lógica devuelven false\n",
    "        nueva_lista = [tupla for tupla in lista if tupla]\n",
    "        return nueva_lista\n",
    "    except Exception as e:\n",
    "        print(f\"Error: {e}\")\n",
    "\n",
    "#Ejemplo de uso de la función\n",
    "lista = [(), (), ('X'), ('a', 'b'), ('a', 'b', 'c'), ('d')]\n",
    "lista = eliminar_tuplas_vacias(lista)\n",
    "lista"
   ]
  },
  {
   "cell_type": "markdown",
   "id": "b44ce518-f780-49ac-a464-c758c44592d2",
   "metadata": {},
   "source": [
    "## Ejercicio 6"
   ]
  },
  {
   "cell_type": "code",
   "execution_count": 4,
   "id": "f64aca58-2ebf-40d6-9b89-ca1f5a99de78",
   "metadata": {
    "tags": []
   },
   "outputs": [
    {
     "data": {
      "text/plain": [
       "(10.5, 44.0, 58.0)"
      ]
     },
     "execution_count": 4,
     "metadata": {},
     "output_type": "execute_result"
    }
   ],
   "source": [
    "def promedio_tuplas(tuplas):\n",
    "    try:\n",
    "        #Uso de comprehensions descartando las tuplas vacías, dado que en prueba lógica devuelven false\n",
    "        promedios = tuple(sum(tupla)/len(tupla) for tupla in tuplas)\n",
    "        return promedios\n",
    "    except Exception as e:\n",
    "        print(f\"Error: {e}\")\n",
    "\n",
    "#Ejemplo de uso de la función\n",
    "entrada = ((10, 10, 10, 12), (30, 45, 56, 45), (81, 80, 39, 32))\n",
    "resultado = promedio_tuplas(entrada)\n",
    "resultado"
   ]
  },
  {
   "cell_type": "markdown",
   "id": "5b81070d-6821-4d1b-bb17-d20435e7f6fc",
   "metadata": {
    "tags": []
   },
   "source": [
    "## Ejercicio 7"
   ]
  },
  {
   "cell_type": "code",
   "execution_count": 80,
   "id": "c5dfd88a-48dd-4121-9bd0-2ce76aeae61c",
   "metadata": {
    "tags": []
   },
   "outputs": [],
   "source": [
    "def mostrar_opciones(facturas):\n",
    "    print(\"¿Qué acción desea realizar?\")\n",
    "    print(\"   A. Agregar una nueva factura\")\n",
    "    if len(facturas) > 0: #solo muestra la opción de eliminar, si hay facturas registradas\n",
    "        print(\"   P. Pagar una factura existente\")\n",
    "    print(\"   S. Salir\")"
   ]
  },
  {
   "cell_type": "code",
   "execution_count": 60,
   "id": "699ef0de-ed93-4629-8009-0bc9d32694a2",
   "metadata": {},
   "outputs": [],
   "source": [
    "def agregar_factura(facturas):\n",
    "    num_factura = \"\"\n",
    "    val_factura = 0\n",
    "    while num_factura == \"\":\n",
    "        num_factura = input(\"Ingrese el número de factura (4 dígitos): \")\n",
    "        if len(num_factura) != 4 or not num_factura.isdigit():\n",
    "            print(\"Número inválido\")\n",
    "            num_factura = \"\"\n",
    "    while val_factura == 0:\n",
    "        try:\n",
    "            val_factura = float(input(f\"Ingrese el valor de la factura {num_factura} (número mayor que cero): \"))\n",
    "            if val_factura > 0: #es número mayor que cero\n",
    "                if (val_factura * 100) - int(val_factura * 100) == 0: #Verifica que no exceda de dos números decimales\n",
    "                    facturas[num_factura] = val_factura\n",
    "                    print(f\"\\nSe ha registrado la factura número: {num_factura}, con un valor de: {val_factura}\\n\")\n",
    "                else:\n",
    "                    print(\"Debe ingresar un valor monetario (no más de dos decimales)\")\n",
    "                    val_factura = 0\n",
    "            else: #es número, pero no es mayor que cero\n",
    "                print(\"El valor debe ser mayor que cero\")\n",
    "                val_factura = 0\n",
    "        except ValueError:\n",
    "            print(\"Error: El valor ingresado no es numérico\")"
   ]
  },
  {
   "cell_type": "code",
   "execution_count": 77,
   "id": "099737f8-6cc3-410a-9112-cf875f9c3141",
   "metadata": {
    "tags": []
   },
   "outputs": [],
   "source": [
    "def pagar_factura(facturas):\n",
    "    num_factura = \"\"\n",
    "    while num_factura == \"\":\n",
    "        num_factura = input(\"Ingrese el número de factura a pagar: \")\n",
    "        if num_factura in facturas:\n",
    "            val_factura = facturas.pop(num_factura)\n",
    "            print(f\"\\nSe ha registrado el pago de la factura {num_factura}, por un valor de: {val_factura}\\n\")\n",
    "            return val_factura\n",
    "        else:\n",
    "            print(f\"\\nNo existe ninguna factura con número {num_factura}\")\n",
    "            num_factura = \"\""
   ]
  },
  {
   "cell_type": "code",
   "execution_count": 83,
   "id": "f0250442-4ef3-413c-a827-79914d054c88",
   "metadata": {
    "tags": []
   },
   "outputs": [
    {
     "name": "stdout",
     "output_type": "stream",
     "text": [
      "\n",
      "Bienvenido al programa de gestión de facturas.\n",
      "\n",
      "¿Qué acción desea realizar?\n",
      "   A. Agregar una nueva factura\n",
      "   S. Salir\n"
     ]
    },
    {
     "name": "stdin",
     "output_type": "stream",
     "text": [
      "Ingrese la letra de la opción deseada:  a\n",
      "Ingrese el número de factura (4 dígitos):  1234\n",
      "Ingrese el valor de la factura 1234 (número mayor que cero):  12.34\n"
     ]
    },
    {
     "name": "stdout",
     "output_type": "stream",
     "text": [
      "\n",
      "Se ha registrado la factura número: 1234, con un valor de: 12.34\n",
      "\n",
      "============================================================\n",
      "\n",
      "Luego de la operación realizada, el status es el siguiente:\n",
      "\n",
      "Total cobrado hasta el momento: 0\n",
      "\n",
      "Facturas pendientes de cobro:\n",
      "Num. | Valor\n",
      "--------------------\n",
      "1234 : 12.34\n",
      "--------------------\n",
      "\n",
      "Total pendiente de cobro: 12.34\n",
      "\n",
      "============================================================\n",
      "\n",
      "¿Qué acción desea realizar?\n",
      "   A. Agregar una nueva factura\n",
      "   P. Pagar una factura existente\n",
      "   S. Salir\n"
     ]
    },
    {
     "name": "stdin",
     "output_type": "stream",
     "text": [
      "Ingrese la letra de la opción deseada:  a\n",
      "Ingrese el número de factura (4 dígitos):  2345\n",
      "Ingrese el valor de la factura 2345 (número mayor que cero):  23.45\n"
     ]
    },
    {
     "name": "stdout",
     "output_type": "stream",
     "text": [
      "\n",
      "Se ha registrado la factura número: 2345, con un valor de: 23.45\n",
      "\n",
      "============================================================\n",
      "\n",
      "Luego de la operación realizada, el status es el siguiente:\n",
      "\n",
      "Total cobrado hasta el momento: 0\n",
      "\n",
      "Facturas pendientes de cobro:\n",
      "Num. | Valor\n",
      "--------------------\n",
      "1234 : 12.34\n",
      "2345 : 23.45\n",
      "--------------------\n",
      "\n",
      "Total pendiente de cobro: 35.79\n",
      "\n",
      "============================================================\n",
      "\n",
      "¿Qué acción desea realizar?\n",
      "   A. Agregar una nueva factura\n",
      "   P. Pagar una factura existente\n",
      "   S. Salir\n"
     ]
    },
    {
     "name": "stdin",
     "output_type": "stream",
     "text": [
      "Ingrese la letra de la opción deseada:  p\n",
      "Ingrese el número de factura a pagar:  1212\n"
     ]
    },
    {
     "name": "stdout",
     "output_type": "stream",
     "text": [
      "\n",
      "No existe ninguna factura con número 1212\n"
     ]
    },
    {
     "name": "stdin",
     "output_type": "stream",
     "text": [
      "Ingrese el número de factura a pagar:  12.34\n"
     ]
    },
    {
     "name": "stdout",
     "output_type": "stream",
     "text": [
      "\n",
      "No existe ninguna factura con número 12.34\n"
     ]
    },
    {
     "name": "stdin",
     "output_type": "stream",
     "text": [
      "Ingrese el número de factura a pagar:  1234\n"
     ]
    },
    {
     "name": "stdout",
     "output_type": "stream",
     "text": [
      "\n",
      "Se ha registrado el pago de la factura 1234, por un valor de: 12.34\n",
      "\n",
      "============================================================\n",
      "\n",
      "Luego de la operación realizada, el status es el siguiente:\n",
      "\n",
      "Total cobrado hasta el momento: 12.34\n",
      "\n",
      "Facturas pendientes de cobro:\n",
      "Num. | Valor\n",
      "--------------------\n",
      "2345 : 23.45\n",
      "--------------------\n",
      "\n",
      "Total pendiente de cobro: 23.45\n",
      "\n",
      "============================================================\n",
      "\n",
      "¿Qué acción desea realizar?\n",
      "   A. Agregar una nueva factura\n",
      "   P. Pagar una factura existente\n",
      "   S. Salir\n"
     ]
    },
    {
     "name": "stdin",
     "output_type": "stream",
     "text": [
      "Ingrese la letra de la opción deseada:  p\n",
      "Ingrese el número de factura a pagar:  2345\n"
     ]
    },
    {
     "name": "stdout",
     "output_type": "stream",
     "text": [
      "\n",
      "Se ha registrado el pago de la factura 2345, por un valor de: 23.45\n",
      "\n",
      "============================================================\n",
      "\n",
      "Luego de la operación realizada, el status es el siguiente:\n",
      "\n",
      "Total cobrado hasta el momento: 35.79\n",
      "\n",
      "Facturas pendientes de cobro:\n",
      "Num. | Valor\n",
      "--------------------\n",
      "--------------------\n",
      "\n",
      "Total pendiente de cobro: 0\n",
      "\n",
      "============================================================\n",
      "\n",
      "¿Qué acción desea realizar?\n",
      "   A. Agregar una nueva factura\n",
      "   S. Salir\n"
     ]
    },
    {
     "name": "stdin",
     "output_type": "stream",
     "text": [
      "Ingrese la letra de la opción deseada:  s\n"
     ]
    },
    {
     "name": "stdout",
     "output_type": "stream",
     "text": [
      "\n",
      "Saliendo del programa.\n"
     ]
    }
   ],
   "source": [
    "facturas = {}\n",
    "total_cobrado = 0\n",
    "salir = False\n",
    "\n",
    "print(\"\\nBienvenido al programa de gestión de facturas.\\n\")\n",
    "\n",
    "while not salir:\n",
    "    mostrar_opciones(facturas)\n",
    "    opcion = input(\"Ingrese la letra de la opción deseada: \")\n",
    "    if opcion == 'A' or opcion == 'a' or opcion == 'P' or opcion == 'p':\n",
    "        if opcion == 'A' or opcion == 'a':\n",
    "            agregar_factura(facturas)\n",
    "        elif opcion == 'P' or opcion == 'p':\n",
    "            total_cobrado += pagar_factura(facturas)\n",
    "            \n",
    "        print('=' * 60)\n",
    "        print(\"\\nLuego de la operación realizada, el status es el siguiente:\")\n",
    "        print(f\"\\nTotal cobrado hasta el momento: {round(total_cobrado, 2)}\\n\")\n",
    "        print(\"Facturas pendientes de cobro:\")\n",
    "        print(\"Num. | Valor\")\n",
    "        print('-' * 20)\n",
    "        for numero, valor in facturas.items():\n",
    "            print(f\"{numero} : {round(valor,2)}\")\n",
    "        print('-' * 20)\n",
    "        print(f\"\\nTotal pendiente de cobro: {round(sum(facturas.values()), 2)}\\n\")\n",
    "        print('=' * 60 + \"\\n\")\n",
    "        \n",
    "    elif opcion == 'S' or opcion =='s':\n",
    "        print(\"\\nSaliendo del programa.\")\n",
    "        salir = True\n",
    "    else:\n",
    "        print(\"\\nOpción no válida.\\n\")"
   ]
  },
  {
   "cell_type": "markdown",
   "id": "9cb9e0f6-d1ac-48aa-b80b-521d5aea42c3",
   "metadata": {},
   "source": [
    "## Ejercicio 8"
   ]
  },
  {
   "cell_type": "code",
   "execution_count": 86,
   "id": "8ef6b397-29de-497f-ae6b-297a530e0aa7",
   "metadata": {
    "tags": []
   },
   "outputs": [],
   "source": [
    "def crear_baraja():\n",
    "    tipos = ['T', 'C', 'P', 'E']  # Tréboles, Corazones, Picas y Espadas\n",
    "    baraja = {f\"{tipo}{n:02}\" for tipo in tipos for n in range(1, 14)} #Se crea la baraja en un set usando comprehensions\n",
    "    return baraja"
   ]
  },
  {
   "cell_type": "code",
   "execution_count": 112,
   "id": "b7c6754a-3c5a-4391-a9ce-2c714ded7314",
   "metadata": {
    "tags": []
   },
   "outputs": [],
   "source": [
    "from random import sample, randint\n",
    "\n",
    "def crear_sets():\n",
    "    baraja = crear_baraja()\n",
    "    #Se define el tamaño de los sets, de manera aleatoria\n",
    "    tam_set1 = randint(1, len(baraja))\n",
    "    tam_set2 = randint(1, len(baraja))\n",
    "    #Se crean los sets, tomando elementos aleatorios del tamaño definido para cada set\n",
    "    set1 = set(sample(list(baraja), tam_set1))\n",
    "    set2 = set(sample(list(baraja), tam_set2))\n",
    "    return set1, set2"
   ]
  },
  {
   "cell_type": "code",
   "execution_count": 126,
   "id": "a9f42f29-09a4-482a-80b9-f9bf6709c5a8",
   "metadata": {
    "tags": []
   },
   "outputs": [
    {
     "name": "stdout",
     "output_type": "stream",
     "text": [
      "=>Set 1:\n",
      "{'T06', 'T10', 'E08', 'T09', 'E02', 'C10', 'C08', 'E05', 'P13', 'T13', 'P07', 'E06', 'T01', 'P04', 'E12', 'P06', 'E01', 'P08', 'C05', 'C04', 'T12', 'P03', 'P02', 'P05', 'E11', 'C03', 'C01', 'T07', 'P09', 'T05', 'E13', 'E03', 'C07', 'C13', 'E04', 'C02', 'C06', 'P11'}\n",
      "=>Set 2:\n",
      "{'T06', 'C12', 'C10', 'E05', 'P13', 'P07', 'E06', 'T01', 'E12', 'E07', 'P06', 'C05', 'T12', 'P02', 'P05', 'E11', 'C01', 'T07', 'P09', 'E13', 'C11', 'T03', 'C07', 'C02', 'E09', 'C06', 'E10'}\n",
      "Intersección:\n",
      "{'T06', 'C10', 'E05', 'P13', 'P07', 'E06', 'T01', 'E12', 'P06', 'C05', 'T12', 'P02', 'P05', 'E11', 'C01', 'T07', 'P09', 'E13', 'C07', 'C02', 'C06'}\n",
      "\n",
      "La probabilidad de la intersección es: 0.40384615384615385\n",
      "Los eventos no son independientes\n",
      "\n",
      "Unión:\n",
      "{'T06', 'T10', 'E08', 'C12', 'T09', 'E02', 'C10', 'C08', 'E05', 'P13', 'T13', 'P07', 'E06', 'T01', 'P04', 'E12', 'E07', 'P06', 'E01', 'P08', 'C05', 'C04', 'T12', 'P03', 'P02', 'P05', 'E11', 'C03', 'C01', 'T07', 'P09', 'T05', 'E13', 'C11', 'T03', 'E03', 'C07', 'C13', 'E04', 'C02', 'E09', 'C06', 'E10', 'P11'}\n",
      "\\La probabilidad de la unión es: 0.8461538461538461\n",
      "0.8462 = 0.7308 + 0.5192 - 0.4038\n",
      "Se cumple la regla de la adición\n",
      "\n"
     ]
    }
   ],
   "source": [
    "set1, set2 = crear_sets()\n",
    "\n",
    "print(f\"=>Set 1:\\n{set1}\")\n",
    "print(f\"=>Set 2:\\n{set2}\")\n",
    "\n",
    "prob_set1 = len(set1) / 52\n",
    "prob_set2 = len(set2) / 52\n",
    "\n",
    "intrs = set1.intersection(set2)\n",
    "print(f\"Intersección:\\n{intrs}\")\n",
    "prob_intrs = len(intrs) / 52\n",
    "print(f\"\\nLa probabilidad de la intersección es: {len(intrs)/52}\")\n",
    "#Según la regla del producto, la probabilidad de que dos sucesos independientes ocurran simultáneamente es el producto de sus probabilidades individuales\n",
    "if prob_intrs == prob_set1 * prob_set2:\n",
    "    print(\"Los eventos son independientes\\n\")\n",
    "else:\n",
    "    print(\"Los eventos no son independientes\\n\")\n",
    "    \n",
    "union = set1.union(set2)\n",
    "print(f\"Unión:\\n{union}\")\n",
    "prob_union = len(union) / 52\n",
    "print(f\"\\La probabilidad de la unión es: {len(union)/52}\")\n",
    "if prob_union == prob_set1 + prob_set2 - prob_intrs:\n",
    "    print(f\"{round(prob_union,4)} = {round(prob_set1,4)} + {round(prob_set2,4)} - {round(prob_intrs,4)}\")\n",
    "    print(\"Se cumple la regla de la adición\\n\")\n",
    "else:\n",
    "    print(\"No se cumple la regla de la adición\\n\")"
   ]
  },
  {
   "cell_type": "code",
   "execution_count": null,
   "id": "ff36715d-65bc-48b5-96cc-632078e10678",
   "metadata": {},
   "outputs": [],
   "source": []
  }
 ],
 "metadata": {
  "kernelspec": {
   "display_name": "Python 3 (ipykernel)",
   "language": "python",
   "name": "python3"
  },
  "language_info": {
   "codemirror_mode": {
    "name": "ipython",
    "version": 3
   },
   "file_extension": ".py",
   "mimetype": "text/x-python",
   "name": "python",
   "nbconvert_exporter": "python",
   "pygments_lexer": "ipython3",
   "version": "3.11.5"
  }
 },
 "nbformat": 4,
 "nbformat_minor": 5
}
