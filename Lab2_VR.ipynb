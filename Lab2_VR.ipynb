{
 "cells": [
  {
   "cell_type": "markdown",
   "id": "8381cd7d-ff35-4349-acef-b9cc5ff6a094",
   "metadata": {
    "tags": []
   },
   "source": [
    "# Laboratorio #2\n",
    "### Sintaxis y Estructuras de datos\n",
    "> *Estudiante: Víctor Manuel Rodríguez Umaña*\n",
    "\n",
    "> *Carnet: 24007670*\n",
    "\n",
    "> *Curso: Ciencia de Datos en Python*"
   ]
  },
  {
   "cell_type": "markdown",
   "id": "1ef2131f-78d0-4063-9fb7-eeda1f07d33c",
   "metadata": {
    "tags": []
   },
   "source": [
    "## Ejercicio 1"
   ]
  },
  {
   "cell_type": "code",
   "execution_count": 39,
   "id": "4de7ea8e-ec90-421a-92a7-257474565c3e",
   "metadata": {
    "tags": []
   },
   "outputs": [
    {
     "name": "stdin",
     "output_type": "stream",
     "text": [
      "Ingrese el número de segundos:  5871\n"
     ]
    },
    {
     "name": "stdout",
     "output_type": "stream",
     "text": [
      "Horas: 1, Minutos: 37, Segundos: 51\n",
      "Programa finalizado\n"
     ]
    }
   ],
   "source": [
    "try:\n",
    "    segundos = int(input(\"Ingrese el número de segundos: \"))\n",
    "    horas = int(segundos / 3600)\n",
    "    segundos = segundos - (horas * 3600)\n",
    "    minutos = int(segundos / 60)\n",
    "    segundos = segundos - (minutos * 60)\n",
    "    print(f\"Horas: {horas}, Minutos: {minutos}, Segundos: {segundos}\")\n",
    "except ValueError:\n",
    "    print(\"Error: El valor ingresado no es válido\")\n",
    "except Exception as e:\n",
    "    print(f\"Error: {e}\")\n",
    "finally:\n",
    "    print(\"Programa finalizado\")"
   ]
  },
  {
   "cell_type": "markdown",
   "id": "7ff68268-835f-4c4d-9208-d64ed64ed28a",
   "metadata": {},
   "source": [
    "## Ejercicio 2"
   ]
  },
  {
   "cell_type": "code",
   "execution_count": 40,
   "id": "3d470c8f-ee4a-44d3-907e-65b056fd86b9",
   "metadata": {
    "tags": []
   },
   "outputs": [
    {
     "name": "stdin",
     "output_type": "stream",
     "text": [
      "Ingrese un número entre 1 y 20:  4\n",
      "Ingrese un caracter cualquiera:  *\n"
     ]
    },
    {
     "name": "stdout",
     "output_type": "stream",
     "text": [
      "*      ****      ****      *\n",
      "**      ***      ***      **\n",
      "***      **      **      ***\n",
      "****      *      *      ****\n",
      "Programa finalizado\n"
     ]
    }
   ],
   "source": [
    "try:\n",
    "    #Solicita, valida y almacena el número\n",
    "    numero = int(input(\"Ingrese un número entre 1 y 20: \"))\n",
    "    while (not(numero >= 1 and numero <=20)):\n",
    "        print(\"Error: Se requiere un número entre 1 y 20\")\n",
    "        numero = int(input(\"Ingrese un número entre 1 y 20: \"))\n",
    "    \n",
    "    #Solicita, valida y almacena el caracter\n",
    "    caracter = input(\"Ingrese un caracter cualquiera: \")\n",
    "    while (len(caracter) != 1):\n",
    "        print(\"Error: Se requiere un solo caracter\")\n",
    "        caracter = input(\"Ingrese un caracter cualquiera: \")\n",
    "        \n",
    "    #Genera el patrón visual\n",
    "    for i in range(1, numero + 1):\n",
    "        print(caracter*i, \" \"*(numero), caracter*(numero+1-i),\n",
    "              \" \"*(numero), caracter*(numero+1-i), \" \"*(numero), caracter*i)\n",
    "except ValueError:\n",
    "    print(\"Error: El valor ingresado no es válido\")\n",
    "except Exception as e:\n",
    "    print(f\"Error: {e}\")\n",
    "finally:\n",
    "    print(\"Programa finalizado\")"
   ]
  },
  {
   "cell_type": "markdown",
   "id": "577afb28-5a2b-4dd8-b837-a8511a8fb363",
   "metadata": {},
   "source": [
    "## Ejercicio 3"
   ]
  },
  {
   "cell_type": "code",
   "execution_count": 48,
   "id": "5fca2151-c446-4365-917b-9edb5f850f36",
   "metadata": {
    "tags": []
   },
   "outputs": [
    {
     "name": "stdin",
     "output_type": "stream",
     "text": [
      "Ingrese el día de nacimiento:  10\n",
      "Ingrese el mes de nacimiento:  01\n",
      "Ingrese el año de nacimiento:  1988\n"
     ]
    },
    {
     "name": "stdout",
     "output_type": "stream",
     "text": [
      "Edad: 36 años, 1 meses, 24 días.\n",
      "Programa finalizado\n"
     ]
    }
   ],
   "source": [
    "from datetime import datetime\n",
    "\n",
    "try:\n",
    "    dia = int(input(\"Ingrese el día de nacimiento: \"))\n",
    "    mes = int(input(\"Ingrese el mes de nacimiento: \"))\n",
    "    anio = int(input(\"Ingrese el año de nacimiento: \"))\n",
    "    \n",
    "    fnac = datetime(anio, mes, dia)\n",
    "    fhoy = datetime.now()\n",
    "\n",
    "    diferencia = fhoy - fnac\n",
    "    dias_vividos = diferencia.days\n",
    "    anios = int(dias_vividos / 365)\n",
    "    dias_vividos = dias_vividos - int(anios/4) #descuenta los días por los años bisiestos vividos (aproximación)\n",
    "    meses = int((dias_vividos % 365) / 30)\n",
    "    dias = (dias_vividos % 365) % 30    \n",
    "    \n",
    "    print(f\"Edad: {anios} años, {meses} meses, {dias} días.\")\n",
    "except ValueError:\n",
    "    print(\"Error: El valor ingresado no es válido.\")\n",
    "except Exception as e:\n",
    "    print(f\"Error: {e}\")\n",
    "finally:\n",
    "    print(\"Programa finalizado\")"
   ]
  },
  {
   "cell_type": "markdown",
   "id": "a364cd39-3543-4b25-9863-41023679bc71",
   "metadata": {},
   "source": [
    "## Ejercicio 4"
   ]
  },
  {
   "cell_type": "code",
   "execution_count": 32,
   "id": "0e859dde-0356-4e3a-9bae-5d1013e59bcd",
   "metadata": {
    "tags": []
   },
   "outputs": [
    {
     "name": "stdout",
     "output_type": "stream",
     "text": [
      "Resultado: 102040570\n"
     ]
    }
   ],
   "source": [
    "def tupla_a_string(tupla):\n",
    "    resultado = ''\n",
    "    for elemento in tupla:\n",
    "        resultado = resultado + str(elemento)\n",
    "    return resultado\n",
    "\n",
    "#Ejemplo de uso de la función\n",
    "tupla = (10, 20, 40, 5, 70)\n",
    "convertida = tupla_a_string(tupla)\n",
    "print(f\"Resultado: {convertida}\")"
   ]
  },
  {
   "cell_type": "markdown",
   "id": "0631f2af-3760-429e-ae25-883242e9bf9d",
   "metadata": {},
   "source": [
    "## Ejercicio 5"
   ]
  },
  {
   "cell_type": "code",
   "execution_count": 40,
   "id": "addfd2b1-2a07-44d5-a293-71f35f177be8",
   "metadata": {
    "tags": []
   },
   "outputs": [
    {
     "data": {
      "text/plain": [
       "['X', ('a', 'b'), ('a', 'b', 'c'), 'd']"
      ]
     },
     "execution_count": 40,
     "metadata": {},
     "output_type": "execute_result"
    }
   ],
   "source": [
    "def eliminar_tuplas_vacias(lista):\n",
    "    try:\n",
    "        #Uso de comprehensions descartando las tuplas vacías, dado que en prueba lógica devuelven false\n",
    "        nueva_lista = [tupla for tupla in lista if tupla]\n",
    "        return nueva_lista\n",
    "    except Exception as e:\n",
    "        print(f\"Error: {e}\")\n",
    "\n",
    "#Ejemplo de uso de la función\n",
    "lista = [(), (), ('X'), ('a', 'b'), ('a', 'b', 'c'), ('d')]\n",
    "lista = eliminar_tuplas_vacias(lista)\n",
    "lista"
   ]
  },
  {
   "cell_type": "code",
   "execution_count": null,
   "id": "87a0943a-f11c-4707-ac57-28c44be42284",
   "metadata": {},
   "outputs": [],
   "source": []
  }
 ],
 "metadata": {
  "kernelspec": {
   "display_name": "Python 3 (ipykernel)",
   "language": "python",
   "name": "python3"
  },
  "language_info": {
   "codemirror_mode": {
    "name": "ipython",
    "version": 3
   },
   "file_extension": ".py",
   "mimetype": "text/x-python",
   "name": "python",
   "nbconvert_exporter": "python",
   "pygments_lexer": "ipython3",
   "version": "3.11.5"
  }
 },
 "nbformat": 4,
 "nbformat_minor": 5
}
